{
 "cells": [
  {
   "cell_type": "code",
   "execution_count": 1,
   "id": "c8544853",
   "metadata": {},
   "outputs": [],
   "source": [
    "import pandas as pd\n",
    "import geopandas as gpd\n",
    "import numpy as np \n",
    "from pathlib import Path \n",
    "import matplotlib.pyplot as plt \n",
    "import rasterio\n",
    "import sys"
   ]
  },
  {
   "cell_type": "code",
   "execution_count": 2,
   "id": "7b5195b2",
   "metadata": {},
   "outputs": [],
   "source": [
    "project_root = Path.cwd().parent \n",
    "sys.path.insert(0, str(project_root))"
   ]
  },
  {
   "cell_type": "markdown",
   "id": "9ecb5a77",
   "metadata": {},
   "source": [
    "#### step 1: Create the Rural Ring"
   ]
  },
  {
   "cell_type": "code",
   "execution_count": 3,
   "id": "5f2c2e62",
   "metadata": {},
   "outputs": [
    {
     "ename": "PermissionError",
     "evalue": "[WinError 32] The process cannot access the file because it is being used by another process: 'C:\\\\Users\\\\kazii\\\\OneDrive - TUM\\\\Desktop\\\\skill_development\\\\urban_heat_island\\\\data\\\\vector\\\\rural_ring.shp'",
     "output_type": "error",
     "traceback": [
      "\u001b[31m---------------------------------------------------------------------------\u001b[39m",
      "\u001b[31mPermissionError\u001b[39m                           Traceback (most recent call last)",
      "\u001b[36mCell\u001b[39m\u001b[36m \u001b[39m\u001b[32mIn[3]\u001b[39m\u001b[32m, line 7\u001b[39m\n\u001b[32m      4\u001b[39m u_path = Path(\u001b[33mr\u001b[39m\u001b[33m\"\u001b[39m\u001b[33mC:\u001b[39m\u001b[33m\\\u001b[39m\u001b[33mUsers\u001b[39m\u001b[33m\\\u001b[39m\u001b[33mkazii\u001b[39m\u001b[33m\\\u001b[39m\u001b[33mOneDrive - TUM\u001b[39m\u001b[33m\\\u001b[39m\u001b[33mDesktop\u001b[39m\u001b[33m\\\u001b[39m\u001b[33mskill_development\u001b[39m\u001b[33m\\\u001b[39m\u001b[33murban_heat_island\u001b[39m\u001b[33m\\\u001b[39m\u001b[33mdata\u001b[39m\u001b[33m\\\u001b[39m\u001b[33mvector\u001b[39m\u001b[33m\\\u001b[39m\u001b[33msaidpur_residential_area.shp\u001b[39m\u001b[33m\"\u001b[39m)\n\u001b[32m      5\u001b[39m outpath = Path(\u001b[33mr\u001b[39m\u001b[33m\"\u001b[39m\u001b[33mC:\u001b[39m\u001b[33m\\\u001b[39m\u001b[33mUsers\u001b[39m\u001b[33m\\\u001b[39m\u001b[33mkazii\u001b[39m\u001b[33m\\\u001b[39m\u001b[33mOneDrive - TUM\u001b[39m\u001b[33m\\\u001b[39m\u001b[33mDesktop\u001b[39m\u001b[33m\\\u001b[39m\u001b[33mskill_development\u001b[39m\u001b[33m\\\u001b[39m\u001b[33murban_heat_island\u001b[39m\u001b[33m\\\u001b[39m\u001b[33mdata\u001b[39m\u001b[33m\\\u001b[39m\u001b[33mvector\u001b[39m\u001b[33m\"\u001b[39m)\n\u001b[32m----> \u001b[39m\u001b[32m7\u001b[39m \u001b[43mrural_ring\u001b[49m\u001b[43m(\u001b[49m\u001b[43mw_path\u001b[49m\u001b[43m,\u001b[49m\u001b[43m \u001b[49m\u001b[43mu_path\u001b[49m\u001b[43m,\u001b[49m\u001b[43m \u001b[49m\u001b[43moutpath\u001b[49m\u001b[43m)\u001b[49m\n",
      "\u001b[36mFile \u001b[39m\u001b[32mc:\\Users\\kazii\\OneDrive - TUM\\Desktop\\skill_development\\urban_heat_island\\scripts\\rural_ring.py:28\u001b[39m, in \u001b[36mrural_ring\u001b[39m\u001b[34m(whole_area_shp, urban_area_shp, outpath)\u001b[39m\n\u001b[32m     25\u001b[39m rr_df = gpd.GeoDataFrame(geometry=[rr_poly], crs=w_area.crs) \u001b[38;5;66;03m#make gdf\u001b[39;00m\n\u001b[32m     27\u001b[39m \u001b[38;5;66;03m#save the shapefile\u001b[39;00m\n\u001b[32m---> \u001b[39m\u001b[32m28\u001b[39m \u001b[43mrr_df\u001b[49m\u001b[43m.\u001b[49m\u001b[43mto_file\u001b[49m\u001b[43m(\u001b[49m\u001b[43moutpath\u001b[49m\u001b[43m \u001b[49m\u001b[43m/\u001b[49m\u001b[43m \u001b[49m\u001b[33;43m'\u001b[39;49m\u001b[33;43mrural_ring.shp\u001b[39;49m\u001b[33;43m'\u001b[39;49m\u001b[43m)\u001b[49m\n\u001b[32m     29\u001b[39m \u001b[38;5;28mprint\u001b[39m(\u001b[33m'\u001b[39m\u001b[33mRural ring shapefile created and saved.\u001b[39m\u001b[33m'\u001b[39m)\n",
      "\u001b[36mFile \u001b[39m\u001b[32mc:\\Users\\kazii\\anaconda3\\envs\\geoenv\\Lib\\site-packages\\geopandas\\geodataframe.py:1536\u001b[39m, in \u001b[36mGeoDataFrame.to_file\u001b[39m\u001b[34m(self, filename, driver, schema, index, **kwargs)\u001b[39m\n\u001b[32m   1441\u001b[39m \u001b[38;5;250m\u001b[39m\u001b[33;03m\"\"\"Write the ``GeoDataFrame`` to a file.\u001b[39;00m\n\u001b[32m   1442\u001b[39m \n\u001b[32m   1443\u001b[39m \u001b[33;03mBy default, an ESRI shapefile is written, but any OGR data source\u001b[39;00m\n\u001b[32m   (...)\u001b[39m\u001b[32m   1532\u001b[39m \n\u001b[32m   1533\u001b[39m \u001b[33;03m\"\"\"\u001b[39;00m\n\u001b[32m   1534\u001b[39m \u001b[38;5;28;01mfrom\u001b[39;00m\u001b[38;5;250m \u001b[39m\u001b[34;01mgeopandas\u001b[39;00m\u001b[34;01m.\u001b[39;00m\u001b[34;01mio\u001b[39;00m\u001b[34;01m.\u001b[39;00m\u001b[34;01mfile\u001b[39;00m\u001b[38;5;250m \u001b[39m\u001b[38;5;28;01mimport\u001b[39;00m _to_file\n\u001b[32m-> \u001b[39m\u001b[32m1536\u001b[39m \u001b[43m_to_file\u001b[49m\u001b[43m(\u001b[49m\u001b[38;5;28;43mself\u001b[39;49m\u001b[43m,\u001b[49m\u001b[43m \u001b[49m\u001b[43mfilename\u001b[49m\u001b[43m,\u001b[49m\u001b[43m \u001b[49m\u001b[43mdriver\u001b[49m\u001b[43m,\u001b[49m\u001b[43m \u001b[49m\u001b[43mschema\u001b[49m\u001b[43m,\u001b[49m\u001b[43m \u001b[49m\u001b[43mindex\u001b[49m\u001b[43m,\u001b[49m\u001b[43m \u001b[49m\u001b[43m*\u001b[49m\u001b[43m*\u001b[49m\u001b[43mkwargs\u001b[49m\u001b[43m)\u001b[49m\n",
      "\u001b[36mFile \u001b[39m\u001b[32mc:\\Users\\kazii\\anaconda3\\envs\\geoenv\\Lib\\site-packages\\geopandas\\io\\file.py:686\u001b[39m, in \u001b[36m_to_file\u001b[39m\u001b[34m(df, filename, driver, schema, index, mode, crs, engine, metadata, **kwargs)\u001b[39m\n\u001b[32m    683\u001b[39m     \u001b[38;5;28;01mraise\u001b[39;00m \u001b[38;5;167;01mValueError\u001b[39;00m(\u001b[33mf\u001b[39m\u001b[33m\"\u001b[39m\u001b[33m'\u001b[39m\u001b[33mmode\u001b[39m\u001b[33m'\u001b[39m\u001b[33m should be one of \u001b[39m\u001b[33m'\u001b[39m\u001b[33mw\u001b[39m\u001b[33m'\u001b[39m\u001b[33m or \u001b[39m\u001b[33m'\u001b[39m\u001b[33ma\u001b[39m\u001b[33m'\u001b[39m\u001b[33m, got \u001b[39m\u001b[33m'\u001b[39m\u001b[38;5;132;01m{\u001b[39;00mmode\u001b[38;5;132;01m}\u001b[39;00m\u001b[33m'\u001b[39m\u001b[33m instead\u001b[39m\u001b[33m\"\u001b[39m)\n\u001b[32m    685\u001b[39m \u001b[38;5;28;01mif\u001b[39;00m engine == \u001b[33m\"\u001b[39m\u001b[33mpyogrio\u001b[39m\u001b[33m\"\u001b[39m:\n\u001b[32m--> \u001b[39m\u001b[32m686\u001b[39m     \u001b[43m_to_file_pyogrio\u001b[49m\u001b[43m(\u001b[49m\u001b[43mdf\u001b[49m\u001b[43m,\u001b[49m\u001b[43m \u001b[49m\u001b[43mfilename\u001b[49m\u001b[43m,\u001b[49m\u001b[43m \u001b[49m\u001b[43mdriver\u001b[49m\u001b[43m,\u001b[49m\u001b[43m \u001b[49m\u001b[43mschema\u001b[49m\u001b[43m,\u001b[49m\u001b[43m \u001b[49m\u001b[43mcrs\u001b[49m\u001b[43m,\u001b[49m\u001b[43m \u001b[49m\u001b[43mmode\u001b[49m\u001b[43m,\u001b[49m\u001b[43m \u001b[49m\u001b[43mmetadata\u001b[49m\u001b[43m,\u001b[49m\u001b[43m \u001b[49m\u001b[43m*\u001b[49m\u001b[43m*\u001b[49m\u001b[43mkwargs\u001b[49m\u001b[43m)\u001b[49m\n\u001b[32m    687\u001b[39m \u001b[38;5;28;01melif\u001b[39;00m engine == \u001b[33m\"\u001b[39m\u001b[33mfiona\u001b[39m\u001b[33m\"\u001b[39m:\n\u001b[32m    688\u001b[39m     _to_file_fiona(df, filename, driver, schema, crs, mode, metadata, **kwargs)\n",
      "\u001b[36mFile \u001b[39m\u001b[32mc:\\Users\\kazii\\anaconda3\\envs\\geoenv\\Lib\\site-packages\\geopandas\\io\\file.py:748\u001b[39m, in \u001b[36m_to_file_pyogrio\u001b[39m\u001b[34m(df, filename, driver, schema, crs, mode, metadata, **kwargs)\u001b[39m\n\u001b[32m    745\u001b[39m \u001b[38;5;28;01mif\u001b[39;00m \u001b[38;5;129;01mnot\u001b[39;00m df.columns.is_unique:\n\u001b[32m    746\u001b[39m     \u001b[38;5;28;01mraise\u001b[39;00m \u001b[38;5;167;01mValueError\u001b[39;00m(\u001b[33m\"\u001b[39m\u001b[33mGeoDataFrame cannot contain duplicated column names.\u001b[39m\u001b[33m\"\u001b[39m)\n\u001b[32m--> \u001b[39m\u001b[32m748\u001b[39m \u001b[43mpyogrio\u001b[49m\u001b[43m.\u001b[49m\u001b[43mwrite_dataframe\u001b[49m\u001b[43m(\u001b[49m\u001b[43mdf\u001b[49m\u001b[43m,\u001b[49m\u001b[43m \u001b[49m\u001b[43mfilename\u001b[49m\u001b[43m,\u001b[49m\u001b[43m \u001b[49m\u001b[43mdriver\u001b[49m\u001b[43m=\u001b[49m\u001b[43mdriver\u001b[49m\u001b[43m,\u001b[49m\u001b[43m \u001b[49m\u001b[43mmetadata\u001b[49m\u001b[43m=\u001b[49m\u001b[43mmetadata\u001b[49m\u001b[43m,\u001b[49m\u001b[43m \u001b[49m\u001b[43m*\u001b[49m\u001b[43m*\u001b[49m\u001b[43mkwargs\u001b[49m\u001b[43m)\u001b[49m\n",
      "\u001b[36mFile \u001b[39m\u001b[32mc:\\Users\\kazii\\anaconda3\\envs\\geoenv\\Lib\\site-packages\\pyogrio\\geopandas.py:662\u001b[39m, in \u001b[36mwrite_dataframe\u001b[39m\u001b[34m(df, path, layer, driver, encoding, geometry_type, promote_to_multi, nan_as_null, append, use_arrow, dataset_metadata, layer_metadata, metadata, dataset_options, layer_options, **kwargs)\u001b[39m\n\u001b[32m    659\u001b[39m \u001b[38;5;28;01mif\u001b[39;00m geometry_column \u001b[38;5;129;01mis\u001b[39;00m \u001b[38;5;129;01mnot\u001b[39;00m \u001b[38;5;28;01mNone\u001b[39;00m:\n\u001b[32m    660\u001b[39m     geometry = to_wkb(geometry.values)\n\u001b[32m--> \u001b[39m\u001b[32m662\u001b[39m \u001b[43mwrite\u001b[49m\u001b[43m(\u001b[49m\n\u001b[32m    663\u001b[39m \u001b[43m    \u001b[49m\u001b[43mpath\u001b[49m\u001b[43m,\u001b[49m\n\u001b[32m    664\u001b[39m \u001b[43m    \u001b[49m\u001b[43mlayer\u001b[49m\u001b[43m=\u001b[49m\u001b[43mlayer\u001b[49m\u001b[43m,\u001b[49m\n\u001b[32m    665\u001b[39m \u001b[43m    \u001b[49m\u001b[43mdriver\u001b[49m\u001b[43m=\u001b[49m\u001b[43mdriver\u001b[49m\u001b[43m,\u001b[49m\n\u001b[32m    666\u001b[39m \u001b[43m    \u001b[49m\u001b[43mgeometry\u001b[49m\u001b[43m=\u001b[49m\u001b[43mgeometry\u001b[49m\u001b[43m,\u001b[49m\n\u001b[32m    667\u001b[39m \u001b[43m    \u001b[49m\u001b[43mfield_data\u001b[49m\u001b[43m=\u001b[49m\u001b[43mfield_data\u001b[49m\u001b[43m,\u001b[49m\n\u001b[32m    668\u001b[39m \u001b[43m    \u001b[49m\u001b[43mfield_mask\u001b[49m\u001b[43m=\u001b[49m\u001b[43mfield_mask\u001b[49m\u001b[43m,\u001b[49m\n\u001b[32m    669\u001b[39m \u001b[43m    \u001b[49m\u001b[43mfields\u001b[49m\u001b[43m=\u001b[49m\u001b[43mfields\u001b[49m\u001b[43m,\u001b[49m\n\u001b[32m    670\u001b[39m \u001b[43m    \u001b[49m\u001b[43mcrs\u001b[49m\u001b[43m=\u001b[49m\u001b[43mcrs\u001b[49m\u001b[43m,\u001b[49m\n\u001b[32m    671\u001b[39m \u001b[43m    \u001b[49m\u001b[43mgeometry_type\u001b[49m\u001b[43m=\u001b[49m\u001b[43mgeometry_type\u001b[49m\u001b[43m,\u001b[49m\n\u001b[32m    672\u001b[39m \u001b[43m    \u001b[49m\u001b[43mencoding\u001b[49m\u001b[43m=\u001b[49m\u001b[43mencoding\u001b[49m\u001b[43m,\u001b[49m\n\u001b[32m    673\u001b[39m \u001b[43m    \u001b[49m\u001b[43mpromote_to_multi\u001b[49m\u001b[43m=\u001b[49m\u001b[43mpromote_to_multi\u001b[49m\u001b[43m,\u001b[49m\n\u001b[32m    674\u001b[39m \u001b[43m    \u001b[49m\u001b[43mnan_as_null\u001b[49m\u001b[43m=\u001b[49m\u001b[43mnan_as_null\u001b[49m\u001b[43m,\u001b[49m\n\u001b[32m    675\u001b[39m \u001b[43m    \u001b[49m\u001b[43mappend\u001b[49m\u001b[43m=\u001b[49m\u001b[43mappend\u001b[49m\u001b[43m,\u001b[49m\n\u001b[32m    676\u001b[39m \u001b[43m    \u001b[49m\u001b[43mdataset_metadata\u001b[49m\u001b[43m=\u001b[49m\u001b[43mdataset_metadata\u001b[49m\u001b[43m,\u001b[49m\n\u001b[32m    677\u001b[39m \u001b[43m    \u001b[49m\u001b[43mlayer_metadata\u001b[49m\u001b[43m=\u001b[49m\u001b[43mlayer_metadata\u001b[49m\u001b[43m,\u001b[49m\n\u001b[32m    678\u001b[39m \u001b[43m    \u001b[49m\u001b[43mmetadata\u001b[49m\u001b[43m=\u001b[49m\u001b[43mmetadata\u001b[49m\u001b[43m,\u001b[49m\n\u001b[32m    679\u001b[39m \u001b[43m    \u001b[49m\u001b[43mdataset_options\u001b[49m\u001b[43m=\u001b[49m\u001b[43mdataset_options\u001b[49m\u001b[43m,\u001b[49m\n\u001b[32m    680\u001b[39m \u001b[43m    \u001b[49m\u001b[43mlayer_options\u001b[49m\u001b[43m=\u001b[49m\u001b[43mlayer_options\u001b[49m\u001b[43m,\u001b[49m\n\u001b[32m    681\u001b[39m \u001b[43m    \u001b[49m\u001b[43mgdal_tz_offsets\u001b[49m\u001b[43m=\u001b[49m\u001b[43mgdal_tz_offsets\u001b[49m\u001b[43m,\u001b[49m\n\u001b[32m    682\u001b[39m \u001b[43m    \u001b[49m\u001b[43m*\u001b[49m\u001b[43m*\u001b[49m\u001b[43mkwargs\u001b[49m\u001b[43m,\u001b[49m\n\u001b[32m    683\u001b[39m \u001b[43m\u001b[49m\u001b[43m)\u001b[49m\n",
      "\u001b[36mFile \u001b[39m\u001b[32mc:\\Users\\kazii\\anaconda3\\envs\\geoenv\\Lib\\site-packages\\pyogrio\\raw.py:723\u001b[39m, in \u001b[36mwrite\u001b[39m\u001b[34m(path, geometry, field_data, fields, field_mask, layer, driver, geometry_type, crs, encoding, promote_to_multi, nan_as_null, append, dataset_metadata, layer_metadata, metadata, dataset_options, layer_options, gdal_tz_offsets, **kwargs)\u001b[39m\n\u001b[32m    718\u001b[39m \u001b[38;5;66;03m# preprocess kwargs and split in dataset and layer creation options\u001b[39;00m\n\u001b[32m    719\u001b[39m dataset_kwargs, layer_kwargs = _preprocess_options_kwargs(\n\u001b[32m    720\u001b[39m     driver, dataset_options, layer_options, kwargs\n\u001b[32m    721\u001b[39m )\n\u001b[32m--> \u001b[39m\u001b[32m723\u001b[39m \u001b[43mogr_write\u001b[49m\u001b[43m(\u001b[49m\n\u001b[32m    724\u001b[39m \u001b[43m    \u001b[49m\u001b[43mpath\u001b[49m\u001b[43m,\u001b[49m\n\u001b[32m    725\u001b[39m \u001b[43m    \u001b[49m\u001b[43mlayer\u001b[49m\u001b[43m=\u001b[49m\u001b[43mlayer\u001b[49m\u001b[43m,\u001b[49m\n\u001b[32m    726\u001b[39m \u001b[43m    \u001b[49m\u001b[43mdriver\u001b[49m\u001b[43m=\u001b[49m\u001b[43mdriver\u001b[49m\u001b[43m,\u001b[49m\n\u001b[32m    727\u001b[39m \u001b[43m    \u001b[49m\u001b[43mgeometry\u001b[49m\u001b[43m=\u001b[49m\u001b[43mgeometry\u001b[49m\u001b[43m,\u001b[49m\n\u001b[32m    728\u001b[39m \u001b[43m    \u001b[49m\u001b[43mgeometry_type\u001b[49m\u001b[43m=\u001b[49m\u001b[43mgeometry_type\u001b[49m\u001b[43m,\u001b[49m\n\u001b[32m    729\u001b[39m \u001b[43m    \u001b[49m\u001b[43mfield_data\u001b[49m\u001b[43m=\u001b[49m\u001b[43mfield_data\u001b[49m\u001b[43m,\u001b[49m\n\u001b[32m    730\u001b[39m \u001b[43m    \u001b[49m\u001b[43mfield_mask\u001b[49m\u001b[43m=\u001b[49m\u001b[43mfield_mask\u001b[49m\u001b[43m,\u001b[49m\n\u001b[32m    731\u001b[39m \u001b[43m    \u001b[49m\u001b[43mfields\u001b[49m\u001b[43m=\u001b[49m\u001b[43mfields\u001b[49m\u001b[43m,\u001b[49m\n\u001b[32m    732\u001b[39m \u001b[43m    \u001b[49m\u001b[43mcrs\u001b[49m\u001b[43m=\u001b[49m\u001b[43mcrs\u001b[49m\u001b[43m,\u001b[49m\n\u001b[32m    733\u001b[39m \u001b[43m    \u001b[49m\u001b[43mencoding\u001b[49m\u001b[43m=\u001b[49m\u001b[43mencoding\u001b[49m\u001b[43m,\u001b[49m\n\u001b[32m    734\u001b[39m \u001b[43m    \u001b[49m\u001b[43mpromote_to_multi\u001b[49m\u001b[43m=\u001b[49m\u001b[43mpromote_to_multi\u001b[49m\u001b[43m,\u001b[49m\n\u001b[32m    735\u001b[39m \u001b[43m    \u001b[49m\u001b[43mnan_as_null\u001b[49m\u001b[43m=\u001b[49m\u001b[43mnan_as_null\u001b[49m\u001b[43m,\u001b[49m\n\u001b[32m    736\u001b[39m \u001b[43m    \u001b[49m\u001b[43mappend\u001b[49m\u001b[43m=\u001b[49m\u001b[43mappend\u001b[49m\u001b[43m,\u001b[49m\n\u001b[32m    737\u001b[39m \u001b[43m    \u001b[49m\u001b[43mdataset_metadata\u001b[49m\u001b[43m=\u001b[49m\u001b[43mdataset_metadata\u001b[49m\u001b[43m,\u001b[49m\n\u001b[32m    738\u001b[39m \u001b[43m    \u001b[49m\u001b[43mlayer_metadata\u001b[49m\u001b[43m=\u001b[49m\u001b[43mlayer_metadata\u001b[49m\u001b[43m,\u001b[49m\n\u001b[32m    739\u001b[39m \u001b[43m    \u001b[49m\u001b[43mdataset_kwargs\u001b[49m\u001b[43m=\u001b[49m\u001b[43mdataset_kwargs\u001b[49m\u001b[43m,\u001b[49m\n\u001b[32m    740\u001b[39m \u001b[43m    \u001b[49m\u001b[43mlayer_kwargs\u001b[49m\u001b[43m=\u001b[49m\u001b[43mlayer_kwargs\u001b[49m\u001b[43m,\u001b[49m\n\u001b[32m    741\u001b[39m \u001b[43m    \u001b[49m\u001b[43mgdal_tz_offsets\u001b[49m\u001b[43m=\u001b[49m\u001b[43mgdal_tz_offsets\u001b[49m\u001b[43m,\u001b[49m\n\u001b[32m    742\u001b[39m \u001b[43m\u001b[49m\u001b[43m)\u001b[49m\n",
      "\u001b[36mFile \u001b[39m\u001b[32mpyogrio\\\\_io.pyx:2307\u001b[39m, in \u001b[36mpyogrio._io.ogr_write\u001b[39m\u001b[34m()\u001b[39m\n",
      "\u001b[36mFile \u001b[39m\u001b[32mpyogrio\\\\_io.pyx:2102\u001b[39m, in \u001b[36mpyogrio._io.create_ogr_dataset_layer\u001b[39m\u001b[34m()\u001b[39m\n",
      "\u001b[31mPermissionError\u001b[39m: [WinError 32] The process cannot access the file because it is being used by another process: 'C:\\\\Users\\\\kazii\\\\OneDrive - TUM\\\\Desktop\\\\skill_development\\\\urban_heat_island\\\\data\\\\vector\\\\rural_ring.shp'"
     ]
    }
   ],
   "source": [
    "from scripts.rural_ring import rural_ring\n",
    "\n",
    "w_path = Path(r\"C:\\Users\\kazii\\OneDrive - TUM\\Desktop\\skill_development\\urban_heat_island\\data\\vector\\saidpur_upazilla.shp\")\n",
    "u_path = Path(r\"C:\\Users\\kazii\\OneDrive - TUM\\Desktop\\skill_development\\urban_heat_island\\data\\vector\\saidpur_residential_area.shp\")\n",
    "outpath = Path(r\"C:\\Users\\kazii\\OneDrive - TUM\\Desktop\\skill_development\\urban_heat_island\\data\\vector\")\n",
    "\n",
    "rural_ring(w_path, u_path, outpath)"
   ]
  },
  {
   "cell_type": "markdown",
   "id": "9fcd07e6",
   "metadata": {},
   "source": [
    "### step 2: Cloud and shadow masking a"
   ]
  },
  {
   "cell_type": "markdown",
   "id": "8237f43b",
   "metadata": {},
   "source": [
    "We need to filter out the cells from calculation where data were corrupted/intercepted by cloud and shadow. Otherwise our output values might not represent the reality."
   ]
  },
  {
   "cell_type": "code",
   "execution_count": 3,
   "id": "276d66c8",
   "metadata": {},
   "outputs": [],
   "source": [
    "from scripts.mask_cloud import mask_cloud"
   ]
  },
  {
   "cell_type": "code",
   "execution_count": 8,
   "id": "22c07469",
   "metadata": {},
   "outputs": [],
   "source": [
    "raster = Path(r\"C:\\Users\\kazii\\OneDrive - TUM\\Desktop\\skill_development\\urban_heat_island\\data\\raster\\19_T1_ST_B10.TIF\")\n",
    "qa_raster = Path(r\"C:\\Users\\kazii\\OneDrive - TUM\\Desktop\\skill_development\\urban_heat_island\\data\\raster\\19_T1_QA_PIXEL.TIF\")\n",
    "outpath = Path(r\"C:\\Users\\kazii\\OneDrive - TUM\\Desktop\\skill_development\\urban_heat_island\\data\\raster\")"
   ]
  },
  {
   "cell_type": "code",
   "execution_count": 9,
   "id": "c6652201",
   "metadata": {},
   "outputs": [
    {
     "name": "stdout",
     "output_type": "stream",
     "text": [
      "Saved the masked raster to: C:\\Users\\kazii\\OneDrive - TUM\\Desktop\\skill_development\\urban_heat_island\\data\\raster\\19_st_cldmask.tif\n"
     ]
    }
   ],
   "source": [
    "mask_cloud(raster, qa_raster, outpath)"
   ]
  },
  {
   "cell_type": "markdown",
   "id": "b60cb7c2",
   "metadata": {},
   "source": [
    "### step 3: Mask the ST raster to study area"
   ]
  },
  {
   "cell_type": "code",
   "execution_count": 10,
   "id": "0a3478fe",
   "metadata": {},
   "outputs": [],
   "source": [
    "from scripts.mask_raster import mask_raster"
   ]
  },
  {
   "cell_type": "code",
   "execution_count": 11,
   "id": "3cba1e66",
   "metadata": {},
   "outputs": [
    {
     "name": "stdout",
     "output_type": "stream",
     "text": [
      "Saved 1 clipped raster(s) to: C:\\Users\\kazii\\OneDrive - TUM\\Desktop\\skill_development\\urban_heat_island\\data\\raster\n"
     ]
    }
   ],
   "source": [
    "#let's mask the rural ring\n",
    "raster_path = Path(r\"C:\\Users\\kazii\\OneDrive - TUM\\Desktop\\skill_development\\urban_heat_island\\data\\raster\\19_st_cldmask.tif\")\n",
    "rr_path = Path(r\"C:\\Users\\kazii\\OneDrive - TUM\\Desktop\\skill_development\\urban_heat_island\\data\\vector\\rural_ring.shp\")\n",
    "outpath = Path(r\"C:\\Users\\kazii\\OneDrive - TUM\\Desktop\\skill_development\\urban_heat_island\\data\\raster\")\n",
    "mask_raster(rr_path, raster_path, outpath)"
   ]
  },
  {
   "cell_type": "code",
   "execution_count": 12,
   "id": "d02a509b",
   "metadata": {},
   "outputs": [
    {
     "name": "stdout",
     "output_type": "stream",
     "text": [
      "Saved 1 clipped raster(s) to: C:\\Users\\kazii\\OneDrive - TUM\\Desktop\\skill_development\\urban_heat_island\\data\\raster\n"
     ]
    }
   ],
   "source": [
    "#let's mask the urban area\n",
    "u_path = Path(r\"C:\\Users\\kazii\\OneDrive - TUM\\Desktop\\skill_development\\urban_heat_island\\data\\vector\\saidpur_residential_area.shp\")\n",
    "mask_raster(u_path, raster_path, outpath)"
   ]
  },
  {
   "cell_type": "markdown",
   "id": "17bdd5c6",
   "metadata": {},
   "source": [
    "### step 3: Calculate celcius/kalvin and visualize results"
   ]
  },
  {
   "cell_type": "markdown",
   "id": "c772325c",
   "metadata": {},
   "source": [
    "The raster values are not exactly in celcius unit, rather scaled number. \n",
    "First, we need to convert them using the scaled_factor, and offset. These information are usually provided in the metadata file"
   ]
  },
  {
   "cell_type": "code",
   "execution_count": 3,
   "id": "150bc2d3",
   "metadata": {},
   "outputs": [],
   "source": [
    "from scripts.dn_to_unit import celcius"
   ]
  },
  {
   "cell_type": "code",
   "execution_count": 4,
   "id": "4b04a604",
   "metadata": {},
   "outputs": [
    {
     "name": "stdout",
     "output_type": "stream",
     "text": [
      "Saved the converted raster to: C:\\Users\\kazii\\OneDrive - TUM\\Desktop\\skill_development\\urban_heat_island\\data\\raster\\19_st_rr_celc.tif\n"
     ]
    }
   ],
   "source": [
    "#covert the rural ring raster to celcius\n",
    "raster_path = Path(r\"C:\\Users\\kazii\\OneDrive - TUM\\Desktop\\skill_development\\urban_heat_island\\data\\raster\\19_st_rr.tif\")\n",
    "outpath = Path(r\"C:\\Users\\kazii\\OneDrive - TUM\\Desktop\\skill_development\\urban_heat_island\\data\\raster\")\n",
    "scale_factor = 0.00341802 #from metadata\n",
    "add_offset = 149.0 #from metadata\n",
    "celcius(raster_path, outpath, scale_factor, add_offset)"
   ]
  },
  {
   "cell_type": "code",
   "execution_count": 5,
   "id": "b8a01bca",
   "metadata": {},
   "outputs": [
    {
     "name": "stdout",
     "output_type": "stream",
     "text": [
      "Saved the converted raster to: C:\\Users\\kazii\\OneDrive - TUM\\Desktop\\skill_development\\urban_heat_island\\data\\raster\\19_st_urb_celc.tif\n"
     ]
    }
   ],
   "source": [
    "#covert the urban area raster to celcius\n",
    "raster_path = Path(r\"C:\\Users\\kazii\\OneDrive - TUM\\Desktop\\skill_development\\urban_heat_island\\data\\raster\\19_st_urb.tif\")\n",
    "outpath = Path(r\"C:\\Users\\kazii\\OneDrive - TUM\\Desktop\\skill_development\\urban_heat_island\\data\\raster\")\n",
    "scale_factor = 0.00341802 #from metadata\n",
    "add_offset = 149.0 #from metadata\n",
    "celcius(raster_path, outpath, scale_factor, add_offset)"
   ]
  },
  {
   "cell_type": "code",
   "execution_count": null,
   "id": "f5216383",
   "metadata": {},
   "outputs": [],
   "source": []
  }
 ],
 "metadata": {
  "kernelspec": {
   "display_name": "geoenv",
   "language": "python",
   "name": "python3"
  },
  "language_info": {
   "codemirror_mode": {
    "name": "ipython",
    "version": 3
   },
   "file_extension": ".py",
   "mimetype": "text/x-python",
   "name": "python",
   "nbconvert_exporter": "python",
   "pygments_lexer": "ipython3",
   "version": "3.13.3"
  }
 },
 "nbformat": 4,
 "nbformat_minor": 5
}
